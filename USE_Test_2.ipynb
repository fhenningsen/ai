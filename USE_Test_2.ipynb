{
  "nbformat": 4,
  "nbformat_minor": 0,
  "metadata": {
    "colab": {
      "name": "USE Test 2.ipynb",
      "provenance": [],
      "collapsed_sections": [],
      "authorship_tag": "ABX9TyPUELyAMc5pIT+MMK2D9i7T",
      "include_colab_link": true
    },
    "kernelspec": {
      "name": "python3",
      "display_name": "Python 3"
    }
  },
  "cells": [
    {
      "cell_type": "markdown",
      "metadata": {
        "id": "view-in-github",
        "colab_type": "text"
      },
      "source": [
        "<a href=\"https://colab.research.google.com/github/fhenningsen/ai/blob/master/USE_Test_2.ipynb\" target=\"_parent\"><img src=\"https://colab.research.google.com/assets/colab-badge.svg\" alt=\"Open In Colab\"/></a>"
      ]
    },
    {
      "cell_type": "markdown",
      "metadata": {
        "id": "jv0WvWIUvLJv",
        "colab_type": "text"
      },
      "source": [
        "# **Universal Sentence Encoder Test 2**"
      ]
    },
    {
      "cell_type": "code",
      "metadata": {
        "id": "XAA3rqVhvXxF",
        "colab_type": "code",
        "colab": {}
      },
      "source": [
        "%%capture\n",
        "# Install the latest Tensorflow version.\n",
        "!pip3 install --upgrade tensorflow-gpu\n",
        "!pip3 install --upgrade tensorflow_text\n",
        "# Install TF-Hub.\n",
        "!pip3 install tensorflow-hub\n",
        "!pip3 install seaborn\n",
        "\n",
        "!pip3 install nmslib"
      ],
      "execution_count": 0,
      "outputs": []
    },
    {
      "cell_type": "code",
      "metadata": {
        "id": "09VZloY3wgH0",
        "colab_type": "code",
        "outputId": "ce28f025-639e-4bea-98dc-c9c3a2fef867",
        "colab": {
          "base_uri": "https://localhost:8080/",
          "height": 34
        }
      },
      "source": [
        "import tensorflow_hub as hub\n",
        "import numpy as np\n",
        "import tensorflow_text\n",
        "from typing import Iterable, List\n",
        "\n",
        "module_url = \"https://tfhub.dev/google/universal-sentence-encoder-multilingual-large/3\" #@param [\"https://tfhub.dev/google/universal-sentence-encoder/4\", \"https://tfhub.dev/google/universal-sentence-encoder-large/5\", \"https://tfhub.dev/google/universal-sentence-encoder-multilingual-large/3\"]\n",
        "model = hub.load(module_url)\n",
        "print (\"module %s loaded\" % module_url)\n",
        "def embed(input):\n",
        "  return model(input)"
      ],
      "execution_count": 0,
      "outputs": [
        {
          "output_type": "stream",
          "text": [
            "module https://tfhub.dev/google/universal-sentence-encoder-multilingual-large/3 loaded\n"
          ],
          "name": "stdout"
        }
      ]
    },
    {
      "cell_type": "code",
      "metadata": {
        "id": "3Q6aSnetx_VU",
        "colab_type": "code",
        "colab": {}
      },
      "source": [
        "BATCH_SIZE = 32\n",
        "def sanitize_input(sentence: str):\n",
        "    return sentence.replace('\\n', '').lower().strip()[:1000]\n",
        "\n",
        "def encode(data: Iterable[str]) -> np.array:\n",
        "    data = [sanitize_input(sentence) for sentence in data]\n",
        "    all_vectors: List[List[float]] = []\n",
        "        \n",
        "    for i in range(0, len(data), BATCH_SIZE):\n",
        "        batch = data[i:i+BATCH_SIZE]\n",
        "        embeddings = embed(batch).numpy().tolist()\n",
        "        all_vectors += embeddings\n",
        "            \n",
        "    return np.array(all_vectors).astype(np.float32)\n"
      ],
      "execution_count": 0,
      "outputs": []
    },
    {
      "cell_type": "code",
      "metadata": {
        "id": "N4c2QewAy9M8",
        "colab_type": "code",
        "outputId": "9e654db0-7b94-4df8-cfe1-47a65bfb1fdc",
        "colab": {
          "base_uri": "https://localhost:8080/",
          "height": 70
        }
      },
      "source": [
        "import nmslib\n",
        "\n",
        "data = [\n",
        "    'What color is chameleon?',\n",
        "    'When is the festival of colors?',\n",
        "    'When is the next music festival?',\n",
        "    'How far is the moon?',\n",
        "    'How far is the sun?',\n",
        "    'What happens when the sun goes down?',\n",
        "    'What we do in the shadows?',\n",
        "    'What is the meaning of all this?',\n",
        "    'What is the meaning of Russel\\'s paradox?',\n",
        "    'How are you doing?'\n",
        "]\n",
        "encoded_data = encode(data)\n",
        "\n",
        "# initialize a new index, using a HNSW index on Cosine Similarity\n",
        "index = nmslib.init(method='hnsw', space='cosinesimil')\n",
        "index.addDataPointBatch(encoded_data)\n",
        "index.createIndex({'post': 2}, print_progress=True)\n",
        "\n",
        "query = [\n",
        "    'كم تبعد الشمس؟'\n",
        "]\n",
        "\n",
        "encoded_query = encode(query)\n",
        "\n",
        "# query for the nearest neighbours of the first datapoint\n",
        "ids, distances = index.knnQuery(encoded_query, k=3)\n",
        "\n",
        "for i in range(3):\n",
        "    print(data[ids[i]] + \" (\" + str(distances[i]) + \")\") \n"
      ],
      "execution_count": 0,
      "outputs": [
        {
          "output_type": "stream",
          "text": [
            "How far is the sun? (0.10776508)\n",
            "How far is the moon? (0.27791917)\n",
            "What happens when the sun goes down? (0.40345967)\n"
          ],
          "name": "stdout"
        }
      ]
    }
  ]
}